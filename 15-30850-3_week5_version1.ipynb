{
 "cells": [
  {
   "cell_type": "code",
   "execution_count": 1,
   "metadata": {},
   "outputs": [],
   "source": [
    "romanian_map = {\n",
    "    'Arad': {'Sibiu':140, 'Zerind':75, 'Timisoara':118},\n",
    "    'Zerind': {'Arad':75, 'Oradea':71},\n",
    "    'Oradea': {'Zerind':71, 'Sibiu': 151},\n",
    "    'Sibiu': {'Arad':140, 'Oradea':151, 'Fagaras':99, 'Rimnicu':80},\n",
    "    'Timisoara': {'Arad': 118, 'Lugoj':111},\n",
    "    'Lugoj': {'Timisoara':111, 'Mehadia':70},\n",
    "    'Mehadia': {'Lugoj': 70, 'Drobeta':75},\n",
    "    'Drobeta': {'Mehadia':75, 'Craiova':120},\n",
    "    'Craiova': {'Drobeta': 120, 'Rimnicu': 146, 'Pitesti': 138},\n",
    "    'Rimnicu': {'Sibiu': 80, 'Craiova': 146, 'Pitesti': 97},\n",
    "    'Fagaras': {'Sibiu':99, 'Bucharest':211},\n",
    "    'Pitesti': {'Rimnicu': 97, 'Craiova':138, 'Bucharest':101},\n",
    "    'Bucharest': {'Fagaras':211, 'Pitesti': 101, 'Giurgiu':90, 'Urziceni':85},\n",
    "    'Giurgiu': {'Bucharest': 90},\n",
    "    'Urziceni': {'Bucharest': 85, 'Vaslui':142, 'Hirsova':98},\n",
    "    'Hirsova': {'Urziceni':98, 'Eforie':86},\n",
    "    'Eforie': {'Hirsova':86},\n",
    "    'Vaslui': {'Iasi': 92, 'Urziceni':142},\n",
    "    'Iasi': {'Vaslui':92, 'Neamt': 87},\n",
    "    'Neamt': {'Iasi':87}\n",
    "}"
   ]
  },
  {
   "cell_type": "markdown",
   "metadata": {},
   "source": [
    "# Greedy Best First Search"
   ]
  },
  {
   "cell_type": "code",
   "execution_count": 2,
   "metadata": {},
   "outputs": [],
   "source": [
    "h = {'Arad': 366,'Zerind':  374,'Oradea': 380,'Sibiu': 253,\n",
    "    'Timisoara': 329,'Lugoj': 244,'Mehadia': 241,'Drobeta': 242,\n",
    "    'Craiova': 160,'Rimnicu': 193,'Fagaras': 176,'Pitesti': 100,\n",
    "    'Bucharest': 0,'Giurgiu': 77,'Urziceni': 80,'Hirsova': 151,\n",
    "    'Eforie': 161,'Vaslui': 199,'Iasi': 226,'Neamt': 234\n",
    "} "
   ]
  },
  {
   "cell_type": "code",
   "execution_count": 15,
   "metadata": {
    "_cell_guid": "b1076dfc-b9ad-4769-8c92-a6c4dae69d19",
    "_uuid": "8f2839f25d086af736a60e9eeb907d3b93b6e0e5"
   },
   "outputs": [
    {
     "name": "stdout",
     "output_type": "stream",
     "text": [
      "Timisoara is selected for expansion\n",
      "Arad is on the frontier\n",
      "Lugoj is on the frontier\n",
      "Lugoj is selected for expansion\n",
      "Mehadia is on the frontier\n",
      "Mehadia is selected for expansion\n",
      "Drobeta is on the frontier\n",
      "Drobeta is selected for expansion\n",
      "Craiova is on the frontier\n",
      "Craiova is selected for expansion\n",
      "Rimnicu is on the frontier\n",
      "Pitesti is on the frontier\n",
      "Pitesti is selected for expansion\n",
      "Rimnicu is on the frontier\n",
      "Bucharest is on the frontier\n",
      "Bucharest is selected for expansion\n",
      "The path:  ['Timisoara', 'Lugoj', 'Mehadia', 'Drobeta', 'Craiova', 'Pitesti', 'Bucharest']\n",
      "The cost:  615\n",
      "['Timisoara', 'Lugoj', 'Mehadia', 'Drobeta', 'Craiova', 'Pitesti', 'Bucharest']\n"
     ]
    }
   ],
   "source": [
    "from queue import PriorityQueue\n",
    "\n",
    "\n",
    "def gbfs(startingNode, destinationNode):\n",
    "    visited = {}\n",
    "    \n",
    "    gbfs_traversal_output = []\n",
    "    pq = PriorityQueue()\n",
    "\n",
    "\n",
    "    for city in romanian_map.keys():\n",
    "        visited[city] = False\n",
    "        \n",
    "    visited[startingNode] = True\n",
    "    node = (h[startingNode],startingNode,[startingNode],0)\n",
    "    pq.put(node)\n",
    "\n",
    "\n",
    "    while not pq.empty():\n",
    "        node = pq.get()\n",
    "        u = node[1] \n",
    "        print(u,\"is selected for expansion\")\n",
    "        gbfs_traversal_output.append(u)\n",
    "        if u== destinationNode:\n",
    "            print(\"The path: \",node[2])\n",
    "            print(\"The cost: \",node[3])\n",
    "            print(gbfs_traversal_output)\n",
    "            break\n",
    "        visited[u] = True\n",
    "        for v in romanian_map[u].keys():            \n",
    "            if not visited[v]:\n",
    "                print(v,\"is on the frontier\")\n",
    "                d = node[3] + romanian_map[u][v]\n",
    "                p = node[2]+[v]\n",
    "                pq.put((h[v],v,p,d))   \n",
    "    \n",
    "\n",
    "gbfs('Timisoara', 'Bucharest')\n"
   ]
  },
  {
   "cell_type": "markdown",
   "metadata": {},
   "source": [
    "# A*"
   ]
  },
  {
   "cell_type": "code",
   "execution_count": 14,
   "metadata": {},
   "outputs": [
    {
     "name": "stdout",
     "output_type": "stream",
     "text": [
      "Arad is selected for expansion\n",
      "Sibiu is on the frontier\n",
      "Zerind is on the frontier\n",
      "Timisoara is on the frontier\n",
      "Sibiu is selected for expansion\n",
      "Oradea is on the frontier\n",
      "Fagaras is on the frontier\n",
      "Rimnicu is on the frontier\n",
      "Rimnicu is selected for expansion\n",
      "Craiova is on the frontier\n",
      "Pitesti is on the frontier\n",
      "Fagaras is selected for expansion\n",
      "Bucharest is on the frontier\n",
      "Pitesti is selected for expansion\n",
      "Craiova is on the frontier\n",
      "Bucharest is on the frontier\n",
      "Bucharest is selected for expansion\n",
      "The path:  ['Arad', 'Sibiu', 'Rimnicu', 'Pitesti', 'Bucharest']\n",
      "The cost:  418\n"
     ]
    }
   ],
   "source": [
    "from queue import PriorityQueue\n",
    "\n",
    "\n",
    "def aStar(startingNode, destinationNode):\n",
    "    visited = {}\n",
    "    #g=0;\n",
    "    \n",
    "    aStar_traversal_output = []\n",
    "    pq = PriorityQueue()\n",
    "\n",
    "    g=0;\n",
    "    for city in romanian_map.keys():\n",
    "        visited[city] = False\n",
    "        \n",
    "    visited[startingNode] = True\n",
    "    node = (h[startingNode]+g,startingNode,[startingNode],0)\n",
    "    pq.put(node)\n",
    "\n",
    "\n",
    "    while not pq.empty():\n",
    "        node = pq.get()\n",
    "        u = node[1] \n",
    "        print(u,\"is selected for expansion\")\n",
    "        aStar_traversal_output.append(u)\n",
    "        if u== destinationNode:\n",
    "            print(\"The path: \",node[2])\n",
    "            print(\"The cost: \",node[3])\n",
    "            break\n",
    "        visited[u] = True\n",
    "        for v in romanian_map[u].keys():            \n",
    "            if not visited[v]:\n",
    "                print(v,\"is on the frontier\")\n",
    "                d = node[3] + romanian_map[u][v]\n",
    "                p = node[2]+[v]\n",
    "                g=d;\n",
    "                pq.put((h[v]+g,v,p,d))   \n",
    "    \n",
    "\n",
    "aStar('Arad', 'Bucharest')\n"
   ]
  },
  {
   "cell_type": "markdown",
   "metadata": {},
   "source": [
    "# BFS"
   ]
  },
  {
   "cell_type": "code",
   "execution_count": 20,
   "metadata": {},
   "outputs": [
    {
     "name": "stdout",
     "output_type": "stream",
     "text": [
      "Expanding  Arad\n",
      "Sibiu  is on frontier\n",
      "Zerind  is on frontier\n",
      "Timisoara  is on frontier\n",
      "Expanding  Sibiu\n",
      "Oradea  is on frontier\n",
      "Fagaras  is on frontier\n",
      "Rimnicu  is on frontier\n",
      "Expanding  Zerind\n",
      "Oradea  is on frontier\n",
      "Expanding  Timisoara\n",
      "Lugoj  is on frontier\n",
      "Expanding  Oradea\n",
      "Zerind  is on frontier\n",
      "Sibiu  is on frontier\n",
      "Expanding  Fagaras\n",
      "Sibiu  is on frontier\n",
      "Bucharest  is on frontier\n",
      "The cost:  450\n",
      "['Arad', 'Sibiu', 'Zerind', 'Timisoara', 'Oradea', 'Fagaras']\n"
     ]
    },
    {
     "data": {
      "text/plain": [
       "['Arad', 'Sibiu', 'Fagaras', 'Bucharest']"
      ]
     },
     "execution_count": 20,
     "metadata": {},
     "output_type": "execute_result"
    }
   ],
   "source": [
    "from queue import Queue\n",
    "\n",
    "\n",
    "def bfs(startingNode, destinationNode):\n",
    "    visited = {}#to store explored nodes\n",
    "    traversal_output = []#to store the order of traversal\n",
    "    frontier = Queue()\n",
    "\n",
    "    for city in romanian_map.keys():\n",
    "        visited[city] = False\n",
    "        \n",
    "    \n",
    "    visited[startingNode] = True # arad\n",
    "    node = {'City':startingNode,'Distance':0, 'Path':[startingNode]}\n",
    "    frontier.put(node)    # arad\n",
    "    \n",
    "    while not frontier.empty():\n",
    "        node = frontier.get()          # selceting the node to expand\n",
    "        u = node['City']\n",
    "        print(\"Expanding \",u)\n",
    "        traversal_output.append(u)\n",
    "\n",
    "        for v in romanian_map[u].keys():\n",
    "            if not visited[v]:                \n",
    "                d = node['Distance'] + romanian_map[u][v]                \n",
    "                frontier.put({'City':v,'Distance':d,'Path': node['Path']+[v]})\n",
    "                print(v,\" is on frontier\")\n",
    "                # store the new child node in the frontier\n",
    "                if v== destinationNode: # goal test\n",
    "                    print(\"The cost: \",d)\n",
    "                    print(traversal_output)\n",
    "                    return node['Path']+[v]\n",
    "    \n",
    "    \n",
    "\n",
    "bfs('Arad', 'Bucharest')"
   ]
  },
  {
   "cell_type": "code",
   "execution_count": null,
   "metadata": {},
   "outputs": [],
   "source": []
  }
 ],
 "metadata": {
  "kernelspec": {
   "display_name": "Python 3",
   "language": "python",
   "name": "python3"
  },
  "language_info": {
   "codemirror_mode": {
    "name": "ipython",
    "version": 3
   },
   "file_extension": ".py",
   "mimetype": "text/x-python",
   "name": "python",
   "nbconvert_exporter": "python",
   "pygments_lexer": "ipython3",
   "version": "3.8.8"
  }
 },
 "nbformat": 4,
 "nbformat_minor": 4
}
