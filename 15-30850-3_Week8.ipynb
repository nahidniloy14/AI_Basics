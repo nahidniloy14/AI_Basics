{
 "cells": [
  {
   "cell_type": "markdown",
   "metadata": {},
   "source": [
    "# N Queen Attack Detection"
   ]
  },
  {
   "cell_type": "code",
   "execution_count": 21,
   "metadata": {},
   "outputs": [
    {
     "name": "stdout",
     "output_type": "stream",
     "text": [
      "Q1: 6,1\n",
      "Q2: 6,7\n",
      "Q3: 1,8\n",
      "Q4: 8,4\n",
      "Q5: 3,2\n",
      "Q6: 4,8\n",
      "Q7: 2,4\n",
      "Q8: 1,4\n",
      "[6, 6, 1, 8, 3, 4, 2, 1]\n",
      "[1, 7, 8, 4, 2, 8, 4, 4]\n"
     ]
    }
   ],
   "source": [
    "import random\n",
    "N = 8\n",
    "r = []\n",
    "c = []\n",
    "for i in range(1, N+1):\n",
    "    r.append(random.choice(range(1, N+1)))\n",
    "    c.append(random.choice(range(1, N+1)))\n",
    "    #check repetition of position\n",
    "    print('Q{}: {},{}'.format(i,r[-1],c[-1]))\n",
    "print(r)\n",
    "print(c)"
   ]
  },
  {
   "cell_type": "code",
   "execution_count": 22,
   "metadata": {},
   "outputs": [
    {
     "name": "stdout",
     "output_type": "stream",
     "text": [
      "row attack: row:6 column:1 and 7\n",
      "row attack: row:1 column:8 and 4\n"
     ]
    }
   ],
   "source": [
    "# row attack\n",
    "for i in range(0,N):\n",
    "    for j in range(i+1,N):\n",
    "        if(r[i] == r[j]):\n",
    "            print('row attack: row:{} column:{} and {}'.format(r[i],c[i],c[j]))      \n",
    "    "
   ]
  },
  {
   "cell_type": "code",
   "execution_count": 23,
   "metadata": {},
   "outputs": [
    {
     "name": "stdout",
     "output_type": "stream",
     "text": [
      "column attack: column:1 row:8 and 8\n",
      "column attack: column:8 row:4 and 4\n",
      "column attack: column:8 row:4 and 4\n",
      "column attack: column:2 row:4 and 4\n"
     ]
    }
   ],
   "source": [
    "#column attack\n",
    "for i in range(0,N):\n",
    "    for j in range(i+1,N):\n",
    "        if(c[i] == c[j]):\n",
    "            print('column attack: column:{} row:{} and {}'.format(r[i],c[i],c[j])) "
   ]
  },
  {
   "cell_type": "code",
   "execution_count": 24,
   "metadata": {},
   "outputs": [],
   "source": [
    "# diagonal atack\n",
    "def diagona_attack(i, j, N):\n",
    "  for k in range(1, i):\n",
    "    if(N[k][j] == 1):\n",
    "      return True\n",
    "\n",
    "  # checking upper right diagonal\n",
    "  k = i-1\n",
    "  l = j+1\n",
    "  while (k>=1 and l<=N):\n",
    "    if (N[k][l] == 1):\n",
    "      return True\n",
    "    k=k+1\n",
    "    l=l+1\n",
    "\n",
    "  # checking upper left diagonal\n",
    "  k = i-1\n",
    "  l = j-1\n",
    "  while (k>=1 and l>=1):\n",
    "    if (N[k][l] == 1):\n",
    "      return True\n",
    "    k=k-1\n",
    "    l=l-1\n",
    "\n",
    "  return False\n",
    "def n_queen(r, n, N):\n",
    "  if (n==0):\n",
    "    return True\n",
    "\n",
    "  for j in range(1, N+1):\n",
    "    if(not(diagonal_attack(r, j, N))):\n",
    "      N[r][j] = 1\n",
    "\n",
    "      if (n_queen(r+1, n-1, N)):\n",
    "        return True\n",
    "\n",
    "      N[r][j] = 0 \n",
    "  return False"
   ]
  },
  {
   "cell_type": "code",
   "execution_count": 30,
   "metadata": {},
   "outputs": [
    {
     "ename": "SyntaxError",
     "evalue": "invalid syntax (<ipython-input-30-f661dee82c0f>, line 8)",
     "output_type": "error",
     "traceback": [
      "\u001b[1;36m  File \u001b[1;32m\"<ipython-input-30-f661dee82c0f>\"\u001b[1;36m, line \u001b[1;32m8\u001b[0m\n\u001b[1;33m    elif:\u001b[0m\n\u001b[1;37m        ^\u001b[0m\n\u001b[1;31mSyntaxError\u001b[0m\u001b[1;31m:\u001b[0m invalid syntax\n"
     ]
    }
   ],
   "source": [
    "# implement a method to print a state is valid or not\n",
    "# input r and c (two lists)\n",
    "def main():\n",
    "    for i,j in range(N):\n",
    "        \n",
    "        if(r[i] == r[j] & c[i] == c[j]):\n",
    "            print(\"Invalid\") \n",
    "        elif:\n",
    "           print(\"Valid\")\n",
    "        \n",
    "        \n",
    "        \n",
    "            \n"
   ]
  },
  {
   "cell_type": "code",
   "execution_count": null,
   "metadata": {},
   "outputs": [],
   "source": []
  },
  {
   "cell_type": "code",
   "execution_count": null,
   "metadata": {},
   "outputs": [],
   "source": []
  },
  {
   "cell_type": "code",
   "execution_count": null,
   "metadata": {},
   "outputs": [],
   "source": []
  },
  {
   "cell_type": "code",
   "execution_count": null,
   "metadata": {},
   "outputs": [],
   "source": []
  }
 ],
 "metadata": {
  "kernelspec": {
   "display_name": "Python 3",
   "language": "python",
   "name": "python3"
  },
  "language_info": {
   "codemirror_mode": {
    "name": "ipython",
    "version": 3
   },
   "file_extension": ".py",
   "mimetype": "text/x-python",
   "name": "python",
   "nbconvert_exporter": "python",
   "pygments_lexer": "ipython3",
   "version": "3.8.8"
  }
 },
 "nbformat": 4,
 "nbformat_minor": 4
}
