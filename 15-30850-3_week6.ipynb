{
 "cells": [
  {
   "cell_type": "markdown",
   "metadata": {},
   "source": [
    "# Problem: Maximie f(x) = x^2 when x= 1 to 31"
   ]
  },
  {
   "cell_type": "markdown",
   "metadata": {},
   "source": [
    "Representation or ecoding solution:\n",
    "x can be represented using 5 bits binary number."
   ]
  },
  {
   "cell_type": "markdown",
   "metadata": {},
   "source": [
    "# Step 1: Initialize Population"
   ]
  },
  {
   "cell_type": "code",
   "execution_count": 1,
   "metadata": {
    "_cell_guid": "b1076dfc-b9ad-4769-8c92-a6c4dae69d19",
    "_uuid": "8f2839f25d086af736a60e9eeb907d3b93b6e0e5"
   },
   "outputs": [],
   "source": [
    "import random\n",
    "def initPopulation(n,b):\n",
    "    p={}\n",
    "    for i in range(n):\n",
    "        s=[]\n",
    "        for j in range(b):\n",
    "            s.append(random.choice([0,1]))    \n",
    "        p[i]=s\n",
    "    return p"
   ]
  },
  {
   "cell_type": "code",
   "execution_count": 2,
   "metadata": {},
   "outputs": [
    {
     "data": {
      "text/plain": [
       "{0: [0, 1, 0, 1, 1],\n",
       " 1: [1, 0, 0, 1, 0],\n",
       " 2: [1, 1, 0, 0, 0],\n",
       " 3: [0, 1, 1, 1, 0],\n",
       " 4: [1, 0, 1, 0, 1],\n",
       " 5: [1, 1, 0, 1, 1]}"
      ]
     },
     "execution_count": 2,
     "metadata": {},
     "output_type": "execute_result"
    }
   ],
   "source": [
    "population=initPopulation(6,5)\n",
    "population"
   ]
  },
  {
   "cell_type": "markdown",
   "metadata": {},
   "source": [
    "# Step 2: Reproduction or Parent Selection"
   ]
  },
  {
   "cell_type": "markdown",
   "metadata": {},
   "source": [
    "Fitness Calculation"
   ]
  },
  {
   "cell_type": "code",
   "execution_count": 3,
   "metadata": {},
   "outputs": [
    {
     "data": {
      "text/plain": [
       "[4, 3, 2, 1, 0]"
      ]
     },
     "execution_count": 3,
     "metadata": {},
     "output_type": "execute_result"
    }
   ],
   "source": [
    "[i for i in range(4,-1,-1)]"
   ]
  },
  {
   "cell_type": "code",
   "execution_count": 4,
   "metadata": {},
   "outputs": [],
   "source": [
    "def getFitness(p):\n",
    "    f=[]\n",
    "    for k in p.keys():\n",
    "        d = 0\n",
    "        b = len(p[k])\n",
    "        for i in range(b-1,-1,-1):\n",
    "            d=d+p[k][i]*2**(b-1-i)\n",
    "        f.append(d**2)\n",
    "    return f"
   ]
  },
  {
   "cell_type": "code",
   "execution_count": 5,
   "metadata": {},
   "outputs": [
    {
     "data": {
      "text/plain": [
       "[121, 324, 576, 196, 441, 729]"
      ]
     },
     "execution_count": 5,
     "metadata": {},
     "output_type": "execute_result"
    }
   ],
   "source": [
    "fitness = getFitness(population)\n",
    "fitness"
   ]
  },
  {
   "cell_type": "markdown",
   "metadata": {},
   "source": [
    "calculate probability and select parents"
   ]
  },
  {
   "cell_type": "code",
   "execution_count": 6,
   "metadata": {},
   "outputs": [],
   "source": [
    "def select_parent(n,fitness):\n",
    "    total_fitness = sum(fitness)\n",
    "    probabilities = [round(f/total_fitness,3) for f in fitness]\n",
    "    parents = {}\n",
    "    for i in range(n):\n",
    "        r =random.choice(range(1,1001,1))/1000\n",
    "        s = 0\n",
    "        for j in range(len(probabilities)):\n",
    "            s = s + probabilities[j]\n",
    "            if(r<=s):#checking the bin\n",
    "                parents[i]=population[j]\n",
    "                break\n",
    "    return parents"
   ]
  },
  {
   "cell_type": "code",
   "execution_count": 7,
   "metadata": {},
   "outputs": [
    {
     "data": {
      "text/plain": [
       "{0: [1, 0, 0, 1, 0],\n",
       " 1: [1, 1, 0, 1, 1],\n",
       " 2: [1, 1, 0, 1, 1],\n",
       " 3: [0, 1, 0, 1, 1]}"
      ]
     },
     "execution_count": 7,
     "metadata": {},
     "output_type": "execute_result"
    }
   ],
   "source": [
    "parents = select_parent(4,fitness)\n",
    "parents"
   ]
  },
  {
   "cell_type": "markdown",
   "metadata": {},
   "source": [
    "# Step 3: Crossover"
   ]
  },
  {
   "cell_type": "code",
   "execution_count": 8,
   "metadata": {},
   "outputs": [
    {
     "data": {
      "text/plain": [
       "2"
      ]
     },
     "execution_count": 8,
     "metadata": {},
     "output_type": "execute_result"
    }
   ],
   "source": [
    "cp = random.choice(range(1,5))\n",
    "cp"
   ]
  },
  {
   "cell_type": "markdown",
   "metadata": {},
   "source": [
    "# Step 4: Select Survivor\n",
    "The selected survivors (solutions) will be added to population"
   ]
  },
  {
   "cell_type": "code",
   "execution_count": 9,
   "metadata": {},
   "outputs": [],
   "source": [
    "def crossover(parents,cp):\n",
    "    offsp = []\n",
    "    for i in parents.keys():\n",
    "        if i%2==0:\n",
    "            ofs1 = parents[i][:cp] + parents[i+1][cp:]\n",
    "            ofs2 = parents[i+1][:cp] + parents[i][cp:]\n",
    "            offsp.append(ofs1)\n",
    "            offsp.append(ofs2)\n",
    "    offspring = {i:offsp[i] for i in range(len(offsp))}\n",
    "    return offspring      "
   ]
  },
  {
   "cell_type": "code",
   "execution_count": 10,
   "metadata": {},
   "outputs": [
    {
     "data": {
      "text/plain": [
       "{0: [1, 0, 0, 1, 1],\n",
       " 1: [1, 1, 0, 1, 0],\n",
       " 2: [1, 1, 0, 1, 1],\n",
       " 3: [0, 1, 0, 1, 1]}"
      ]
     },
     "execution_count": 10,
     "metadata": {},
     "output_type": "execute_result"
    }
   ],
   "source": [
    "offsprings = crossover(parents,cp)\n",
    "offsprings "
   ]
  },
  {
   "cell_type": "markdown",
   "metadata": {},
   "source": [
    "Select top 2 offspring based on fitness value and add them to population."
   ]
  },
  {
   "cell_type": "markdown",
   "metadata": {},
   "source": [
    "Repeat Step 2 to 4 for further iterations"
   ]
  }
 ],
 "metadata": {
  "kernelspec": {
   "display_name": "Python 3",
   "language": "python",
   "name": "python3"
  },
  "language_info": {
   "codemirror_mode": {
    "name": "ipython",
    "version": 3
   },
   "file_extension": ".py",
   "mimetype": "text/x-python",
   "name": "python",
   "nbconvert_exporter": "python",
   "pygments_lexer": "ipython3",
   "version": "3.8.8"
  }
 },
 "nbformat": 4,
 "nbformat_minor": 4
}
