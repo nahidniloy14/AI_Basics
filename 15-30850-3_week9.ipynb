{
 "cells": [
  {
   "cell_type": "code",
   "execution_count": 16,
   "metadata": {},
   "outputs": [],
   "source": [
    "cgraph = {'WA': ['SA', 'NT'], \n",
    "          'Q': ['SA', 'NT', 'NSW'], \n",
    "          'T': [],\n",
    "          'V': ['SA', 'NSW'], \n",
    "          'SA': ['WA', 'NT', 'Q', 'NSW','V'], \n",
    "          'NT': ['Q', 'WA', 'SA'], \n",
    "          'NSW': ['Q', 'V', 'SA']}\n",
    "okColor={}"
   ]
  },
  {
   "cell_type": "code",
   "execution_count": 10,
   "metadata": {},
   "outputs": [],
   "source": [
    "# write a method to get the highest degree node\n",
    "\n",
    "def get_node_hd():\n",
    "    mnode = ''\n",
    "    length = -1\n",
    "    for k in cgraph.keys():\n",
    "        if(len(cgraph[k])>length and k not in okColor.keys()):\n",
    "            #print(k)\n",
    "            length = len(cgraph[k])\n",
    "            mnode = k\n",
    "    return mnode"
   ]
  },
  {
   "cell_type": "code",
   "execution_count": 11,
   "metadata": {},
   "outputs": [
    {
     "data": {
      "text/plain": [
       "'SA'"
      ]
     },
     "execution_count": 11,
     "metadata": {},
     "output_type": "execute_result"
    }
   ],
   "source": [
    "get_node_hd()"
   ]
  },
  {
   "cell_type": "code",
   "execution_count": 12,
   "metadata": {},
   "outputs": [],
   "source": [
    "colorstochooselist={'WA': ['red','green', 'blue'], \n",
    "                    'Q': ['red','green', 'blue'],\n",
    "                    'T': ['red', 'green', 'blue'],\n",
    "                    'V':  ['red','green', 'blue'], \n",
    "                    'NT': ['red','green', 'blue'],\n",
    "                    'SA': ['red','green', 'blue'],                    \n",
    "                    'NSW': ['red','green', 'blue']}\n",
    "\n",
    "import random\n",
    "def get_color(node):\n",
    "    # check colorstochooselist[node] is empty or not\n",
    "   \n",
    "    if (len(node)!=0 and node in colorstochooselist):\n",
    "        if (len(colorstochooselist[node])!=0):\n",
    "    #choose color\n",
    "           color = random.choice(colorstochooselist[node])\n",
    "           colorstochooselist.pop(node)\n",
    "    # update color options\n",
    "    adjList = cgraph[node]\n",
    "    for adj in adjList:\n",
    "        if(adj in colorstochooselist.keys()):\n",
    "            colorstochooselist[adj].remove(color)\n",
    "    #print(adjList)\n",
    "        return color\n",
    "    # return 'no color'\n",
    "    else :\n",
    "        print ('No Color')\n",
    "        return 0\n",
    "   "
   ]
  },
  {
   "cell_type": "code",
   "execution_count": 13,
   "metadata": {},
   "outputs": [
    {
     "name": "stdout",
     "output_type": "stream",
     "text": [
      "{'WA': ['red', 'green'], 'Q': ['red', 'green', 'blue'], 'T': ['red', 'green', 'blue'], 'V': ['red', 'green', 'blue'], 'NT': ['red', 'green', 'blue'], 'NSW': ['red', 'green', 'blue']}\n",
      "{'SA': 'blue'}\n"
     ]
    }
   ],
   "source": [
    "# assign color to the highest degree node\n",
    "hdNode = get_node_hd()\n",
    "\n",
    "# check condition if all nodes are assigned color [hdNoe is '']\n",
    "# print assignments complete\n",
    "             \n",
    "\n",
    "# check 'no color' is returned\n",
    "# print failure\n",
    "\n",
    "okColor[hdNode]= get_color(hdNode)\n",
    "print(colorstochooselist)\n",
    "print(okColor)"
   ]
  },
  {
   "cell_type": "code",
   "execution_count": 14,
   "metadata": {},
   "outputs": [
    {
     "data": {
      "text/plain": [
       "'WA'"
      ]
     },
     "execution_count": 14,
     "metadata": {},
     "output_type": "execute_result"
    }
   ],
   "source": [
    "# define a method to select a node by MRV\n",
    "def get_node_MRV():\n",
    "    #implement the logic on colorstochooselist\n",
    "    l=7\n",
    "    mnode=''\n",
    "    for k in colorstochooselist.keys():\n",
    "        if ( len(colorstochooselist[k]) < l ):\n",
    "            l = len(colorstochooselist[k])\n",
    "            mnode = k    \n",
    "    return mnode\n",
    "get_node_MRV()    "
   ]
  },
  {
   "cell_type": "code",
   "execution_count": 15,
   "metadata": {},
   "outputs": [
    {
     "name": "stdout",
     "output_type": "stream",
     "text": [
      "Length of cgraph 7\n",
      "Choose color list:  {'Q': ['red', 'green', 'blue'], 'T': ['red', 'green', 'blue'], 'V': ['red', 'green', 'blue'], 'NT': ['red', 'green', 'blue'], 'SA': ['red', 'green'], 'NSW': ['red', 'green', 'blue']}\n",
      "Ok color:  {'WA': 'blue'}\n",
      "Choose color list:  {'Q': ['red', 'green', 'blue'], 'T': ['red', 'green', 'blue'], 'V': ['red', 'green', 'blue'], 'NT': ['red', 'green', 'blue'], 'NSW': ['red', 'green', 'blue']}\n",
      "Ok color:  {'WA': 'blue', 'SA': 'green'}\n",
      "Choose color list:  {'T': ['red', 'green', 'blue'], 'V': ['red', 'green', 'blue'], 'NT': ['red', 'green', 'blue'], 'NSW': ['red', 'green', 'blue']}\n",
      "Ok color:  {'WA': 'blue', 'SA': 'green', 'Q': 'green'}\n",
      "No Color\n",
      "Failure\n",
      "Choose color list:  {'NT': ['red', 'green', 'blue'], 'NSW': ['red', 'green', 'blue']}\n",
      "Ok color:  {'WA': 'blue', 'SA': 'green', 'Q': 'green', 'V': 'green'}\n",
      "Choose color list:  {'NSW': ['red', 'green', 'blue']}\n",
      "Ok color:  {'WA': 'blue', 'SA': 'green', 'Q': 'green', 'V': 'green', 'NT': 'green'}\n",
      "Choose color list:  {}\n",
      "Ok color:  {'WA': 'blue', 'SA': 'green', 'Q': 'green', 'V': 'green', 'NT': 'green', 'NSW': 'green'}\n"
     ]
    }
   ],
   "source": [
    "okColor={}\n",
    "colorstochooselist={'WA': ['red','green', 'blue'], \n",
    "                    'Q': ['red','green', 'blue'],\n",
    "                    'T': ['red', 'green', 'blue'],\n",
    "                    'V':  ['red','green', 'blue'], \n",
    "                    'NT': ['red','green', 'blue'],\n",
    "                    'SA': ['red','green', 'blue'],                    \n",
    "                    'NSW': ['red','green', 'blue']}\n",
    "\n",
    "L = len(cgraph)\n",
    "print ('Length of cgraph',L)\n",
    "for i in range(0,L):\n",
    "    # assign color to the Minimum Remaining Value\n",
    "    mrvNode = get_node_MRV()\n",
    "    selected_color = get_color(mrvNode)\n",
    "    # if 'no color' returned then print failure\n",
    "    if (selected_color!=0):\n",
    "        hdNode = get_node_hd() \n",
    "        okColor[mrvNode]= selected_color\n",
    "        print('Choose color list: ',colorstochooselist)\n",
    "        print('Ok color: ',okColor)\n",
    "    else:\n",
    "        print ('Failure')"
   ]
  },
  {
   "cell_type": "code",
   "execution_count": null,
   "metadata": {},
   "outputs": [],
   "source": []
  }
 ],
 "metadata": {
  "kernelspec": {
   "display_name": "Python 3",
   "language": "python",
   "name": "python3"
  },
  "language_info": {
   "codemirror_mode": {
    "name": "ipython",
    "version": 3
   },
   "file_extension": ".py",
   "mimetype": "text/x-python",
   "name": "python",
   "nbconvert_exporter": "python",
   "pygments_lexer": "ipython3",
   "version": "3.8.8"
  }
 },
 "nbformat": 4,
 "nbformat_minor": 4
}
