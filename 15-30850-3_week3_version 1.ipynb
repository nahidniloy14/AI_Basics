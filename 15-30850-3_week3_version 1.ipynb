{
 "cells": [
  {
   "cell_type": "markdown",
   "id": "08e225c8",
   "metadata": {},
   "source": [
    "# DISH CLEANING AGENT"
   ]
  },
  {
   "cell_type": "markdown",
   "id": "f774f36e",
   "metadata": {},
   "source": [
    "# Table driven agent"
   ]
  },
  {
   "cell_type": "code",
   "execution_count": 1,
   "id": "e81c5d62",
   "metadata": {},
   "outputs": [
    {
     "name": "stdout",
     "output_type": "stream",
     "text": [
      "Perception Received: ('Front', 'Dirty')\n",
      "Action Performed: Cleanse\n",
      "Get Perception (yes/no): yes\n",
      "Perception Received: ('Front', 'Clean')\n",
      "Action Performed: Turn\n",
      "Get Perception (yes/no): no\n"
     ]
    }
   ],
   "source": [
    "table={('Front','Clean'):'Turn',('Front','Dirty'):'Cleanse',('Back','Clean'):'Turn',('Back','Dirty'):'Cleanse'}\n",
    "percepts=[]    \n",
    "def table_driven_agent(percept):\n",
    "    print('Perception Received: '+ str(percept))\n",
    "    percepts.append(percept)\n",
    "    action = lookup(percept,table)\n",
    "    return action\n",
    "\n",
    "def lookup(percept,table):\n",
    "    for key in table:\n",
    "        if key == percept:\n",
    "            return table[key]\n",
    "\n",
    "import random\n",
    "Location = random.choice(['Front','Back'])\n",
    "Condition = random.choice(['Clean','Dirty'])\n",
    "\n",
    "while True:\n",
    "    action= table_driven_agent((Location,Condition))\n",
    "    print('Action Performed: '+ action)\n",
    "    cmd = input('Get Perception (yes/no): ')\n",
    "    if(cmd == 'no' or cmd != 'yes'): break\n",
    "    if action == 'Turn':\n",
    "        Location = random.choice(['Front','Back'])\n",
    "        Condition = random.choice(['Clean','Dirty'])\n",
    "    else:\n",
    "        Condition = 'Clean'"
   ]
  },
  {
   "cell_type": "markdown",
   "id": "93eaa029",
   "metadata": {},
   "source": [
    "# Simple reflex agent"
   ]
  },
  {
   "cell_type": "code",
   "execution_count": 1,
   "id": "abaa187c",
   "metadata": {},
   "outputs": [
    {
     "name": "stdout",
     "output_type": "stream",
     "text": [
      "Perception Received: ('Front', 'Dirty')\n",
      "Action Performed: Cleanse\n",
      "Get Perception (yes/no): yes\n",
      "Perception Received: ('Front', 'Clean')\n",
      "Action Performed: Turn\n",
      "Get Perception (yes/no): no\n"
     ]
    }
   ],
   "source": [
    "def simple_reflex_agent(percept):\n",
    "    print('Perception Received: '+ str(percept))\n",
    "    location = percept[0]\n",
    "    status = percept[1]\n",
    "    if status =='Dirty':\n",
    "        action = 'Cleanse'\n",
    "    else:\n",
    "        action='Turn';\n",
    "    return action\n",
    "\n",
    "import random\n",
    "Location = random.choice(['Front','Back'])\n",
    "Condition = random.choice(['Clean','Dirty'])\n",
    "\n",
    "while True:\n",
    "    action= simple_reflex_agent((Location,Condition))\n",
    "    print('Action Performed: '+ action)\n",
    "    cmd = input('Get Perception (yes/no): ')\n",
    "    if(cmd == 'no' or cmd != 'yes'): break\n",
    "    if action == 'Turn':\n",
    "        Location = random.choice(['Front','Back'])\n",
    "        Condition = random.choice(['Clean','Dirty'])\n",
    "    else:\n",
    "        Condition = 'Clean'\n",
    "    "
   ]
  },
  {
   "cell_type": "markdown",
   "id": "0d920267",
   "metadata": {},
   "source": [
    "# Model based agent"
   ]
  },
  {
   "cell_type": "code",
   "execution_count": 3,
   "id": "3f2a58cd",
   "metadata": {},
   "outputs": [
    {
     "name": "stdout",
     "output_type": "stream",
     "text": [
      "*****\n",
      "Perception: ('Front', 'Clean')\n",
      "Action Performed: Turn\n",
      "Model: {'Front': 'Clean', 'Back': 'Unknown'}\n",
      "State: Bad\n",
      "*****\n",
      "Perception: ('Back', 'Dirty')\n",
      "Action Performed: Cleanse\n",
      "Model: {'Front': 'Clean', 'Back': 'Clean'}\n",
      "State: Good\n",
      "*****\n",
      "Stopped. Do restart? (yes/no): no\n"
     ]
    }
   ],
   "source": [
    "model = {'Front':'Unknown', 'Back':'Unknown'}\n",
    "world_state = 'Bad'\n",
    "action = 'Unknown'\n",
    "\n",
    "def update_state(action, percept, model):\n",
    "    location = percept[0]\n",
    "    status = percept[1]\n",
    "    model[location] = status\n",
    "    \n",
    "    global world_state\n",
    "    if action == 'Cleanse':\n",
    "        model[location]='Clean'\n",
    "    if model['Front']=='Clean' and model['Back']=='Clean':\n",
    "        world_state = 'Good'\n",
    "    else:\n",
    "        world_state = 'Bad'\n",
    "    return world_state\n",
    "        \n",
    "\n",
    "def model_based_reflex_agent(percept):\n",
    "    location = percept[0]\n",
    "    status = percept[1]\n",
    "    \n",
    "    global world_state,action,model\n",
    "    \n",
    "    if world_state == 'Good':\n",
    "        action = 'Nothing to do'\n",
    "        return action\n",
    "    elif status == 'Dirty':\n",
    "        action = 'Cleanse'\n",
    "    else:\n",
    "        action = 'Turn'\n",
    "        \n",
    "    world_state = update_state(action, percept, model)\n",
    "    print('Perception: '+str(percept)) \n",
    "    print('Action Performed: '+ action)    \n",
    "    print('Model: '+str(model))   \n",
    "    print('State: '+str(world_state))    \n",
    "    return action\n",
    "\n",
    "\n",
    "import random\n",
    "Location = random.choice(['Front','Back'])\n",
    "Condition= random.choice(['Clean','Dirty'])\n",
    "\n",
    "while True:\n",
    "    print('*****')\n",
    "    action = model_based_reflex_agent((Location,Condition))\n",
    "    if action == 'Turn':\n",
    "        Location = random.choice(['Front','Back'])\n",
    "        Condition = random.choice(['Clean','Dirty'])\n",
    "    elif action == 'Cleanse':\n",
    "        Condition = 'Clean'\n",
    "    elif action == 'Nothing to do':\n",
    "        cmd = input('Stopped. Do restart? (yes/no): ')\n",
    "        if(cmd == 'no' or cmd != 'yes'): break\n",
    "        Condition = random.choice(['Clean','Dirty'])\n",
    "        model = {'Front':'Unknown', 'Back':'Unknown'}\n",
    "        world_state = 'Bad'\n",
    "        action = 'Unknown'"
   ]
  }
 ],
 "metadata": {
  "kernelspec": {
   "display_name": "Python 3",
   "language": "python",
   "name": "python3"
  },
  "language_info": {
   "codemirror_mode": {
    "name": "ipython",
    "version": 3
   },
   "file_extension": ".py",
   "mimetype": "text/x-python",
   "name": "python",
   "nbconvert_exporter": "python",
   "pygments_lexer": "ipython3",
   "version": "3.8.8"
  }
 },
 "nbformat": 4,
 "nbformat_minor": 5
}
